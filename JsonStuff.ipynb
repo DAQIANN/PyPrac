{
 "cells": [
  {
   "cell_type": "code",
   "execution_count": 63,
   "metadata": {
    "collapsed": true,
    "pycharm": {
     "is_executing": false
    }
   },
   "outputs": [
    {
     "name": "stdout",
     "text": [
      "30\n"
     ],
     "output_type": "stream"
    }
   ],
   "source": [
    "import json\n",
    "\n",
    "# Simple JSON:\n",
    "\n",
    "c = '{\"name\":\"John\", \"age\":30, \"city\":\"New York\"}'\n",
    "\n",
    "# parse c:\n",
    "\n",
    "y = json.loads(c)\n",
    "\n",
    "# becomes a Python dictionary\n",
    "print(y[\"age\"])"
   ]
  },
  {
   "cell_type": "code",
   "execution_count": 64,
   "outputs": [
    {
     "name": "stdout",
     "text": [
      "{\"name\": \"John\", \"age\": 30, \"city\": \"New York\"}\n"
     ],
     "output_type": "stream"
    }
   ],
   "source": [
    "# Convert from Python to JSON\n",
    "\n",
    "x = {\n",
    "    \"name\": \"John\",\n",
    "    \"age\": 30,\n",
    "    \"city\": \"New York\"\n",
    "}\n",
    "\n",
    "p = json.dumps(x)\n",
    "\n",
    "# Becomes a JSON string\n",
    "print(p)"
   ],
   "metadata": {
    "collapsed": false,
    "pycharm": {
     "name": "#%%\n",
     "is_executing": false
    }
   }
  },
  {
   "cell_type": "code",
   "execution_count": 65,
   "outputs": [
    {
     "name": "stdout",
     "text": [
      "[\"apple\", \"banana\"]\n",
      "[\"apple\", \"banana\"]\n",
      "42\n",
      "true\n",
      "null\n"
     ],
     "output_type": "stream"
    }
   ],
   "source": [
    "# Some more json.dumps example\n",
    "print(json.dumps([\"apple\", \"banana\"]))\n",
    "print(json.dumps((\"apple\", \"banana\")))\n",
    "print(json.dumps(42))\n",
    "print(json.dumps(True))\n",
    "print(json.dumps(None))"
   ],
   "metadata": {
    "collapsed": false,
    "pycharm": {
     "name": "#%%\n",
     "is_executing": false
    }
   }
  },
  {
   "cell_type": "code",
   "execution_count": 66,
   "outputs": [
    {
     "name": "stdout",
     "text": [
      "{\n",
      "    \"age\" = 30. \n",
      "    \"cars\" = [\n",
      "        {\n",
      "            \"model\" = \"BMW 230\". \n",
      "            \"mpg\" = 27.5\n",
      "        }. \n",
      "        {\n",
      "            \"model\" = \"Ford Edge\". \n",
      "            \"mpg\" = 24.1\n",
      "        }\n",
      "    ]. \n",
      "    \"children\" = [\n",
      "        \"Ann\". \n",
      "        \"Billy\"\n",
      "    ]. \n",
      "    \"divorced\" = false. \n",
      "    \"married\" = true. \n",
      "    \"name\" = \"John\". \n",
      "    \"pets\" = null\n",
      "}\n"
     ],
     "output_type": "stream"
    }
   ],
   "source": [
    "# Very big Python object into JSON\n",
    "\n",
    "w = {\n",
    "    \"name\": \"John\",\n",
    "    \"age\": 30,\n",
    "    \"married\": True,\n",
    "    \"divorced\": False,\n",
    "    \"children\": (\"Ann\", \"Billy\"),\n",
    "    \"pets\": None,\n",
    "    \"cars\": [\n",
    "        {\"model\": \"BMW 230\", \"mpg\": 27.5},\n",
    "        {\"model\": \"Ford Edge\", \"mpg\": 24.1}\n",
    "    ]\n",
    "}\n",
    "\n",
    "print(json.dumps(w, indent=4, separators=(\". \", \" = \"), sort_keys=True))\n"
   ],
   "metadata": {
    "collapsed": false,
    "pycharm": {
     "name": "#%%\n",
     "is_executing": false
    }
   }
  }
 ],
 "metadata": {
  "kernelspec": {
   "display_name": "Python 3",
   "language": "python",
   "name": "python3"
  },
  "language_info": {
   "codemirror_mode": {
    "name": "ipython",
    "version": 2
   },
   "file_extension": ".py",
   "mimetype": "text/x-python",
   "name": "python",
   "nbconvert_exporter": "python",
   "pygments_lexer": "ipython2",
   "version": "2.7.6"
  },
  "pycharm": {
   "stem_cell": {
    "cell_type": "raw",
    "source": [],
    "metadata": {
     "collapsed": false
    }
   }
  }
 },
 "nbformat": 4,
 "nbformat_minor": 0
}