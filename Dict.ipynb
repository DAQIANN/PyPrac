{
 "cells": [
  {
   "cell_type": "code",
   "execution_count": 127,
   "metadata": {
    "collapsed": true,
    "pycharm": {
     "is_executing": false
    }
   },
   "outputs": [
    {
     "name": "stdout",
     "text": [
      "{'brand': 'Ford', 'model': 'Mustang', 'year': 1964}\n"
     ],
     "output_type": "stream"
    }
   ],
   "source": [
    "# Creating a Dictionary\n",
    "this_dict = {\n",
    "    \"brand\" : \"Ford\",\n",
    "    \"model\" : \"Mustang\",\n",
    "    \"year\" : 1964\n",
    "}\n",
    "print(this_dict)"
   ]
  },
  {
   "cell_type": "code",
   "execution_count": 128,
   "outputs": [
    {
     "name": "stdout",
     "text": [
      "Mustang Ford\n"
     ],
     "output_type": "stream"
    }
   ],
   "source": [
    "# Accessing items\n",
    "x = this_dict[\"model\"]\n",
    "y = this_dict.get(\"brand\")\n",
    "print(x, y)"
   ],
   "metadata": {
    "collapsed": false,
    "pycharm": {
     "name": "#%%\n",
     "is_executing": false
    }
   }
  },
  {
   "cell_type": "code",
   "execution_count": 129,
   "outputs": [
    {
     "name": "stdout",
     "text": [
      "{'brand': 'Ford', 'model': 'Mustang', 'year': 2018}\n"
     ],
     "output_type": "stream"
    }
   ],
   "source": [
    "# Change values\n",
    "\n",
    "this_dict[\"year\"] = 2018\n",
    "print(this_dict)"
   ],
   "metadata": {
    "collapsed": false,
    "pycharm": {
     "name": "#%%\n",
     "is_executing": false
    }
   }
  },
  {
   "cell_type": "code",
   "execution_count": 130,
   "outputs": [
    {
     "name": "stdout",
     "text": [
      "brand  :  Ford\n",
      "model  :  Mustang\n",
      "year  :  2018\n",
      "Ford\n",
      "Mustang\n",
      "2018\n",
      "brand Ford\n",
      "model Mustang\n",
      "year 2018\n"
     ],
     "output_type": "stream"
    }
   ],
   "source": [
    "# Looping through dictionary\n",
    "\n",
    "for x in this_dict:\n",
    "    print(x , \" : \" , this_dict[x])\n",
    "\n",
    "for x in this_dict.values():\n",
    "    print(x)\n",
    "\n",
    "for x, y in this_dict.items():\n",
    "    print(x, y)"
   ],
   "metadata": {
    "collapsed": false,
    "pycharm": {
     "name": "#%%\n",
     "is_executing": false
    }
   }
  },
  {
   "cell_type": "code",
   "execution_count": 131,
   "outputs": [
    {
     "name": "stdout",
     "text": [
      "model is there\n",
      "mustang\n",
      "3\n"
     ],
     "output_type": "stream"
    }
   ],
   "source": [
    "# Check if key exists\n",
    "\n",
    "if \"model\" in this_dict:\n",
    "    print(\"model is there\")\n",
    "\n",
    "if \"Mustang\" in this_dict.values():\n",
    "    print(\"mustang\")\n",
    "    \n",
    "print(len(this_dict)) # Number of items"
   ],
   "metadata": {
    "collapsed": false,
    "pycharm": {
     "name": "#%%\n",
     "is_executing": false
    }
   }
  },
  {
   "cell_type": "code",
   "execution_count": 132,
   "outputs": [
    {
     "name": "stdout",
     "text": [
      "red\n",
      "{'brand': 'Ford', 'year': 2018, 'color': 'red'}\n",
      "{'brand': 'Ford', 'year': 2018}\n",
      "{'brand': 'Ford'}\n"
     ],
     "output_type": "stream"
    }
   ],
   "source": [
    "# Adding and Removing\n",
    "\n",
    "this_dict[\"color\"] = \"red\"\n",
    "print(this_dict.get(\"color\"))\n",
    "\n",
    "this_dict.pop(\"model\")\n",
    "print(this_dict)\n",
    "\n",
    "this_dict.popitem()\n",
    "print(this_dict)\n",
    "\n",
    "del this_dict[\"year\"]\n",
    "print(this_dict)"
   ],
   "metadata": {
    "collapsed": false,
    "pycharm": {
     "name": "#%%\n",
     "is_executing": false
    }
   }
  },
  {
   "cell_type": "code",
   "execution_count": 133,
   "outputs": [
    {
     "name": "stdout",
     "text": [
      "{'child1': {'name': 'Emily', 'year': 2004}, 'child2': {'name': 'Emily', 'year': 2004}, 'child3': {'name': 'Linus', 'year': 2006}}\n"
     ],
     "output_type": "stream"
    }
   ],
   "source": [
    "# Multiple dictionaries\n",
    "\n",
    "child1 = {\n",
    "    \"name\" : \"Emily\",\n",
    "    \"year\" : 2004\n",
    "}\n",
    "child2 = {\n",
    "    \"name\" : \"Emily\",\n",
    "    \"year\" : 2004\n",
    "}\n",
    "\n",
    "my_family1 = {\n",
    "    \"child1\" : child1,\n",
    "    \"child2\" : child2,\n",
    "    \"child3\" : {\n",
    "        \"name\" : \"Linus\",\n",
    "        \"year\" : 2006\n",
    "    }\n",
    "}\n",
    "\n",
    "print(my_family1)\n",
    "\n"
   ],
   "metadata": {
    "collapsed": false,
    "pycharm": {
     "name": "#%%\n",
     "is_executing": false
    }
   }
  }
 ],
 "metadata": {
  "kernelspec": {
   "display_name": "Python 3",
   "language": "python",
   "name": "python3"
  },
  "language_info": {
   "codemirror_mode": {
    "name": "ipython",
    "version": 2
   },
   "file_extension": ".py",
   "mimetype": "text/x-python",
   "name": "python",
   "nbconvert_exporter": "python",
   "pygments_lexer": "ipython2",
   "version": "2.7.6"
  },
  "pycharm": {
   "stem_cell": {
    "cell_type": "raw",
    "source": [],
    "metadata": {
     "collapsed": false
    }
   }
  }
 },
 "nbformat": 4,
 "nbformat_minor": 0
}