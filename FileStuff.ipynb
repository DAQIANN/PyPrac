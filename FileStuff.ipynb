{
 "cells": [
  {
   "cell_type": "code",
   "execution_count": 53,
   "metadata": {
    "collapsed": true,
    "pycharm": {
     "is_executing": false
    }
   },
   "outputs": [
    {
     "name": "stdout",
     "text": [
      "Overwritten\n",
      "Now more content\n"
     ],
     "output_type": "stream"
    }
   ],
   "source": [
    "f = open(\"demofile.txt\", \"a\") # adds to end\n",
    "f.write(\"\\nNow more content\")\n",
    "f.close()\n",
    "\n",
    "f = open(\"demofile.txt\", \"r\")\n",
    "print(f.read())\n",
    "f.close()"
   ]
  },
  {
   "cell_type": "code",
   "execution_count": 54,
   "outputs": [
    {
     "name": "stdout",
     "text": [
      "Overwritten\n"
     ],
     "output_type": "stream"
    }
   ],
   "source": [
    "f = open(\"demofile.txt\", \"w\")\n",
    "f.write(\"Overwritten\")\n",
    "f.close()\n",
    "\n",
    "f = open(\"demofile.txt\", \"r\")\n",
    "print(f.read())\n",
    "f.close()"
   ],
   "metadata": {
    "collapsed": false,
    "pycharm": {
     "name": "#%%\n",
     "is_executing": false
    }
   }
  },
  {
   "cell_type": "code",
   "execution_count": 55,
   "outputs": [
    {
     "name": "stdout",
     "text": [
      "Hello createfile user\n"
     ],
     "output_type": "stream"
    }
   ],
   "source": [
    "# Create new file and remove file\n",
    "import os\n",
    "if os.path.exists(\"newfile.txt\"):\n",
    "    os.remove(\"newfile.txt\")\n",
    "else:\n",
    "    print(\"file doesnt exist\")\n",
    "\n",
    "# deleting a whole folder uses os.rmdir and only removes empty folders\n",
    "\n",
    "p = open(\"newfile.txt\", \"x\")\n",
    "h = open(\"createfile.txt\", \"w\") # creates new file if none exist\n",
    "h.write(\"Hello createfile user\")\n",
    "h.close()\n",
    "\n",
    "h = open(\"createfile.txt\", \"r\")\n",
    "print(h.read())\n",
    "h.close()\n"
   ],
   "metadata": {
    "collapsed": false,
    "pycharm": {
     "name": "#%%\n",
     "is_executing": false
    }
   }
  }
 ],
 "metadata": {
  "kernelspec": {
   "display_name": "Python 3",
   "language": "python",
   "name": "python3"
  },
  "language_info": {
   "codemirror_mode": {
    "name": "ipython",
    "version": 2
   },
   "file_extension": ".py",
   "mimetype": "text/x-python",
   "name": "python",
   "nbconvert_exporter": "python",
   "pygments_lexer": "ipython2",
   "version": "2.7.6"
  },
  "pycharm": {
   "stem_cell": {
    "cell_type": "raw",
    "source": [],
    "metadata": {
     "collapsed": false
    }
   }
  }
 },
 "nbformat": 4,
 "nbformat_minor": 0
}