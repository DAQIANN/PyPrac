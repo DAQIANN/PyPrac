{
 "cells": [
  {
   "cell_type": "code",
   "execution_count": 4,
   "metadata": {
    "collapsed": true,
    "pycharm": {
     "is_executing": false
    }
   },
   "outputs": [
    {
     "name": "stdout",
     "text": [
      "apple\n",
      "banana\n",
      "cherry\n"
     ],
     "output_type": "stream"
    }
   ],
   "source": [
    "# Simple iterator\n",
    "\n",
    "my_tuple = (\"apple\", \"banana\", \"cherry\")\n",
    "my_it = iter(my_tuple)\n",
    "\n",
    "print(next(my_it))\n",
    "print(next(my_it))\n",
    "print(next(my_it))"
   ]
  },
  {
   "cell_type": "code",
   "execution_count": 5,
   "outputs": [
    {
     "name": "stdout",
     "text": [
      "c\n",
      "h\n",
      "e\n",
      "r\n",
      "r\n",
      "y\n"
     ],
     "output_type": "stream"
    }
   ],
   "source": [
    "# String iterator\n",
    "\n",
    "my_str = \"cherry\"\n",
    "the_it = iter(my_str)\n",
    "\n",
    "print(next(the_it))\n",
    "print(next(the_it))\n",
    "print(next(the_it))\n",
    "print(next(the_it))\n",
    "print(next(the_it))\n",
    "print(next(the_it))"
   ],
   "metadata": {
    "collapsed": false,
    "pycharm": {
     "name": "#%%\n",
     "is_executing": false
    }
   }
  },
  {
   "cell_type": "code",
   "execution_count": 6,
   "outputs": [
    {
     "name": "stdout",
     "text": [
      "1\n",
      "2\n",
      "3\n",
      "4\n",
      "5\n",
      "6\n",
      "7\n",
      "8\n",
      "9\n",
      "10\n",
      "11\n",
      "12\n",
      "13\n",
      "14\n",
      "15\n",
      "16\n",
      "17\n",
      "18\n",
      "19\n",
      "20\n"
     ],
     "output_type": "stream"
    }
   ],
   "source": [
    "# Creating an iterator\n",
    "\n",
    "class MyNumbers:\n",
    "    def __iter__(self):\n",
    "        self.a = 1\n",
    "        return self\n",
    "    \n",
    "    def __next__(self):\n",
    "        if self.a <= 20:\n",
    "            x = self.a \n",
    "            self.a += 1\n",
    "            return x\n",
    "        else:\n",
    "            raise StopIteration\n",
    "\n",
    "my_class = MyNumbers()\n",
    "iterator = iter(my_class)\n",
    "\n",
    "for x in iterator:\n",
    "    print(x)\n"
   ],
   "metadata": {
    "collapsed": false,
    "pycharm": {
     "name": "#%%\n",
     "is_executing": false
    }
   }
  }
 ],
 "metadata": {
  "kernelspec": {
   "display_name": "Python 3",
   "language": "python",
   "name": "python3"
  },
  "language_info": {
   "codemirror_mode": {
    "name": "ipython",
    "version": 2
   },
   "file_extension": ".py",
   "mimetype": "text/x-python",
   "name": "python",
   "nbconvert_exporter": "python",
   "pygments_lexer": "ipython2",
   "version": "2.7.6"
  },
  "pycharm": {
   "stem_cell": {
    "cell_type": "raw",
    "source": [],
    "metadata": {
     "collapsed": false
    }
   }
  }
 },
 "nbformat": 4,
 "nbformat_minor": 0
}