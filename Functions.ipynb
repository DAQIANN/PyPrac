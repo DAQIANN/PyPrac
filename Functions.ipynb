{
 "cells": [
  {
   "cell_type": "code",
   "execution_count": 27,
   "metadata": {
    "collapsed": true,
    "pycharm": {
     "is_executing": false
    }
   },
   "outputs": [
    {
     "name": "stdout",
     "text": [
      "Hello from a function Thomas\n"
     ],
     "output_type": "stream"
    }
   ],
   "source": [
    "def my_funct(fname):\n",
    "    print(\"Hello from a function \" + fname)\n",
    "\n",
    "my_funct(\"Thomas\")"
   ]
  },
  {
   "cell_type": "code",
   "execution_count": 28,
   "outputs": [
    {
     "name": "stdout",
     "text": [
      "Random is Sean\n"
     ],
     "output_type": "stream"
    }
   ],
   "source": [
    "# If number of args is unknown\n",
    "\n",
    "def anotha(*people):\n",
    "    print(\"Random is \" + people[2])\n",
    "\n",
    "anotha(\"Michelle\", \"Daniel\", \"Sean\")"
   ],
   "metadata": {
    "collapsed": false,
    "pycharm": {
     "name": "#%%\n",
     "is_executing": false
    }
   }
  },
  {
   "cell_type": "code",
   "execution_count": 29,
   "outputs": [
    {
     "name": "stdout",
     "text": [
      "The youngest is Daniel\n",
      "Last name is Harris\n"
     ],
     "output_type": "stream"
    }
   ],
   "source": [
    "# Using keyword arguments\n",
    "\n",
    "def name_func(child3, child2, child1):\n",
    "    print(\"The youngest is \" + child3)\n",
    "\n",
    "name_func(child1 = \"Bob\", child2 = \"Sean\", child3 = \"Daniel\")\n",
    "\n",
    "# Unknown keyword arguments\n",
    "\n",
    "def unknown_name(**kid):\n",
    "    print(\"Last name is \" + kid[\"lname\"])\n",
    "\n",
    "unknown_name(fname = \"Tobias\", lname = \"Harris\")"
   ],
   "metadata": {
    "collapsed": false,
    "pycharm": {
     "name": "#%%\n",
     "is_executing": false
    }
   }
  },
  {
   "cell_type": "code",
   "execution_count": 30,
   "outputs": [
    {
     "name": "stdout",
     "text": [
      "I am from Sweden\n",
      "I am from Norway\n"
     ],
     "output_type": "stream"
    }
   ],
   "source": [
    "# Setting default value\n",
    "\n",
    "def country_from(country = \"Norway\"):\n",
    "    print(\"I am from \" + country)\n",
    "    \n",
    "country_from(\"Sweden\")\n",
    "country_from()"
   ],
   "metadata": {
    "collapsed": false,
    "pycharm": {
     "name": "#%%\n",
     "is_executing": false
    }
   }
  },
  {
   "cell_type": "code",
   "execution_count": 31,
   "outputs": [
    {
     "name": "stdout",
     "text": [
      "apple\n",
      "banana\n",
      "blueberry\n"
     ],
     "output_type": "stream"
    }
   ],
   "source": [
    "# Passing in list as argument\n",
    "\n",
    "def list_pass(food):\n",
    "    for x in food:\n",
    "        print(x)\n",
    "        \n",
    "list_pass([\"apple\", \"banana\", \"blueberry\"])"
   ],
   "metadata": {
    "collapsed": false,
    "pycharm": {
     "name": "#%%\n",
     "is_executing": false
    }
   }
  },
  {
   "cell_type": "code",
   "execution_count": 32,
   "outputs": [
    {
     "name": "stdout",
     "text": [
      "1\n",
      "3\n",
      "6\n",
      "10\n",
      "15\n"
     ],
     "output_type": "stream"
    },
    {
     "data": {
      "text/plain": "15"
     },
     "metadata": {},
     "output_type": "execute_result",
     "execution_count": 32
    }
   ],
   "source": [
    "# Recursion example\n",
    "\n",
    "def tri_recursion(k):\n",
    "    if k > 0:\n",
    "        result = k + tri_recursion(k - 1)\n",
    "        print(result)\n",
    "    else:\n",
    "        result = 0\n",
    "    return result\n",
    "\n",
    "tri_recursion(5)\n"
   ],
   "metadata": {
    "collapsed": false,
    "pycharm": {
     "name": "#%%\n",
     "is_executing": false
    }
   }
  }
 ],
 "metadata": {
  "kernelspec": {
   "display_name": "Python 3",
   "language": "python",
   "name": "python3"
  },
  "language_info": {
   "codemirror_mode": {
    "name": "ipython",
    "version": 2
   },
   "file_extension": ".py",
   "mimetype": "text/x-python",
   "name": "python",
   "nbconvert_exporter": "python",
   "pygments_lexer": "ipython2",
   "version": "2.7.6"
  },
  "pycharm": {
   "stem_cell": {
    "cell_type": "raw",
    "source": [],
    "metadata": {
     "collapsed": false
    }
   }
  }
 },
 "nbformat": 4,
 "nbformat_minor": 0
}