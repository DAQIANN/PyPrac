{
 "cells": [
  {
   "cell_type": "code",
   "execution_count": 285,
   "metadata": {
    "collapsed": true,
    "pycharm": {
     "is_executing": false
    }
   },
   "outputs": [
    {
     "name": "stdout",
     "text": [
      "[1 2 3 4 5]\n",
      "<class 'numpy.ndarray'>\n"
     ],
     "output_type": "stream"
    }
   ],
   "source": [
    "import numpy as np\n",
    "\n",
    "arr = np.array([1, 2, 3, 4, 5])\n",
    "# can also be passed as a tuple or any array-like object\n",
    "print(arr)\n",
    "print(type(arr))"
   ]
  },
  {
   "cell_type": "code",
   "execution_count": 286,
   "outputs": [
    {
     "name": "stdout",
     "text": [
      "1.18.4\n"
     ],
     "output_type": "stream"
    }
   ],
   "source": [
    "# version of numpy\n",
    "\n",
    "print(np.__version__)"
   ],
   "metadata": {
    "collapsed": false,
    "pycharm": {
     "name": "#%%\n",
     "is_executing": false
    }
   }
  },
  {
   "cell_type": "code",
   "execution_count": 287,
   "outputs": [
    {
     "name": "stdout",
     "text": [
      "42\n"
     ],
     "output_type": "stream"
    }
   ],
   "source": [
    "new_arr = np.array(42) # 0-D array, basically just the value\n",
    "print(new_arr)\n",
    "# 1-D array is a normal array"
   ],
   "metadata": {
    "collapsed": false,
    "pycharm": {
     "name": "#%%\n",
     "is_executing": false
    }
   }
  },
  {
   "cell_type": "code",
   "execution_count": 288,
   "outputs": [
    {
     "name": "stdout",
     "text": [
      "[[1 2 3]\n",
      " [4 5 6]]\n"
     ],
     "output_type": "stream"
    }
   ],
   "source": [
    "# 2-D\n",
    "\n",
    "two_arr = np.array([[1, 2, 3], [4, 5, 6]])\n",
    "print(two_arr)"
   ],
   "metadata": {
    "collapsed": false,
    "pycharm": {
     "name": "#%%\n",
     "is_executing": false
    }
   }
  },
  {
   "cell_type": "code",
   "execution_count": 289,
   "outputs": [
    {
     "name": "stdout",
     "text": [
      "[[[1 2 3]\n",
      "  [4 5 6]]\n",
      "\n",
      " [[1 2 3]\n",
      "  [4 5 6]]]\n"
     ],
     "output_type": "stream"
    }
   ],
   "source": [
    "# 3-D basically just two 2-D arrays\n",
    "third_arr = np.array([[[1, 2, 3], [4, 5, 6]], [[1, 2, 3], [4, 5, 6]]])\n",
    "print(third_arr)"
   ],
   "metadata": {
    "collapsed": false,
    "pycharm": {
     "name": "#%%\n",
     "is_executing": false
    }
   }
  },
  {
   "cell_type": "code",
   "execution_count": 290,
   "outputs": [
    {
     "name": "stdout",
     "text": [
      "1\n",
      "2\n",
      "3\n"
     ],
     "output_type": "stream"
    }
   ],
   "source": [
    "# Number of dimension\n",
    "print(arr.ndim)\n",
    "print(two_arr.ndim)\n",
    "print(third_arr.ndim)"
   ],
   "metadata": {
    "collapsed": false,
    "pycharm": {
     "name": "#%%\n",
     "is_executing": false
    }
   }
  },
  {
   "cell_type": "code",
   "execution_count": 291,
   "outputs": [
    {
     "name": "stdout",
     "text": [
      "[[[[[1 2 3 4]]]]]\n",
      "Num of dimensions:  5\n"
     ],
     "output_type": "stream"
    }
   ],
   "source": [
    "# 5-D or more\n",
    "\n",
    "big_arr = np.array([1, 2, 3, 4], ndmin=5)\n",
    "\n",
    "print(big_arr)\n",
    "print(\"Num of dimensions: \", big_arr.ndim)"
   ],
   "metadata": {
    "collapsed": false,
    "pycharm": {
     "name": "#%%\n",
     "is_executing": false
    }
   }
  },
  {
   "cell_type": "code",
   "execution_count": 292,
   "outputs": [
    {
     "name": "stdout",
     "text": [
      "4\n"
     ],
     "output_type": "stream"
    }
   ],
   "source": [
    "print(third_arr[0, 0, 1] + third_arr[1, 0, 1])"
   ],
   "metadata": {
    "collapsed": false,
    "pycharm": {
     "name": "#%%\n",
     "is_executing": false
    }
   }
  },
  {
   "cell_type": "code",
   "execution_count": 293,
   "outputs": [
    {
     "name": "stdout",
     "text": [
      "[2 4]\n",
      "[5 6]\n",
      "[3 6]\n"
     ],
     "output_type": "stream"
    }
   ],
   "source": [
    "# Slicing\n",
    "\n",
    "print(arr[1:5:2]) # [start:end:step]\n",
    "\n",
    "print(two_arr[1, 1:4]) # second array index 1 to 4 excluding 4\n",
    "print(two_arr[0:2, 2]) # index 2 from both elements"
   ],
   "metadata": {
    "collapsed": false,
    "pycharm": {
     "name": "#%%\n",
     "is_executing": false
    }
   }
  },
  {
   "cell_type": "code",
   "execution_count": 294,
   "outputs": [
    {
     "name": "stdout",
     "text": [
      "int64\n"
     ],
     "output_type": "stream"
    }
   ],
   "source": [
    "# Data type\n",
    "\n",
    "print(arr.dtype)"
   ],
   "metadata": {
    "collapsed": false,
    "pycharm": {
     "name": "#%%\n",
     "is_executing": false
    }
   }
  },
  {
   "cell_type": "code",
   "execution_count": 295,
   "outputs": [
    {
     "name": "stdout",
     "text": [
      "[b'1' b'2' b'3' b'4']\n",
      "|S1\n"
     ],
     "output_type": "stream"
    }
   ],
   "source": [
    "# Setting the datatype\n",
    "\n",
    "anotha_arr = np.array([1, 2, 3, 4], dtype='S')\n",
    "print(anotha_arr)\n",
    "print(anotha_arr.dtype)"
   ],
   "metadata": {
    "collapsed": false,
    "pycharm": {
     "name": "#%%\n",
     "is_executing": false
    }
   }
  },
  {
   "cell_type": "code",
   "execution_count": 296,
   "outputs": [
    {
     "name": "stdout",
     "text": [
      "[1 2 3]\n",
      "int32\n",
      "[ True False  True]\n",
      "bool\n"
     ],
     "output_type": "stream"
    }
   ],
   "source": [
    "# Converting data types\n",
    "\n",
    "float_arr = np.array([1.1, 2.1, 3.1])\n",
    "diff_arr = float_arr.astype('i')\n",
    "\n",
    "print(diff_arr)\n",
    "print(diff_arr.dtype)\n",
    "\n",
    "random_arr = np.array([1, 0, 3])\n",
    "bool_arr = random_arr.astype(bool)\n",
    "\n",
    "print(bool_arr)\n",
    "print(bool_arr.dtype)"
   ],
   "metadata": {
    "collapsed": false,
    "pycharm": {
     "name": "#%%\n",
     "is_executing": false
    }
   }
  },
  {
   "cell_type": "code",
   "execution_count": 297,
   "outputs": [
    {
     "name": "stdout",
     "text": [
      "None\n",
      "[1 2 3 4 5]\n"
     ],
     "output_type": "stream"
    }
   ],
   "source": [
    "# Copying array\n",
    "\n",
    "x = arr.copy()\n",
    "y = arr.view()\n",
    "print(x.base)\n",
    "print(y.base)"
   ],
   "metadata": {
    "collapsed": false,
    "pycharm": {
     "name": "#%%\n",
     "is_executing": false
    }
   }
  },
  {
   "cell_type": "code",
   "execution_count": 298,
   "outputs": [
    {
     "name": "stdout",
     "text": [
      "(5,)\n",
      "(2, 3)\n",
      "(1, 1, 1, 1, 4)\n"
     ],
     "output_type": "stream"
    }
   ],
   "source": [
    "# Shape\n",
    "\n",
    "print(arr.shape)\n",
    "print(two_arr.shape)\n",
    "print(big_arr.shape)"
   ],
   "metadata": {
    "collapsed": false,
    "pycharm": {
     "name": "#%%\n",
     "is_executing": false
    }
   }
  },
  {
   "cell_type": "code",
   "execution_count": 299,
   "outputs": [
    {
     "name": "stdout",
     "text": [
      "[[ 1  2  3]\n",
      " [ 4  5  6]\n",
      " [ 7  8  9]\n",
      " [10 11 12]]\n",
      "(4, 3)\n",
      "[ 1  2  3  4  5  6  7  8  9 10 11 12]\n",
      "(2, 3, 2)\n",
      "[ 1  2  3  4  5  6  7  8  9 10 11 12]\n"
     ],
     "output_type": "stream"
    }
   ],
   "source": [
    "# Reshaping\n",
    "# Multiplying numbers together should equal total length\n",
    "# It's a view\n",
    "# Putting -1 will let Numpy calculate dimension for you\n",
    "\n",
    "long_arr = np.array([1, 2, 3, 4, 5, 6, 7, 8, 9, 10, 11, 12])\n",
    "\n",
    "half_arr = long_arr.reshape(4, 3)\n",
    "print(half_arr)\n",
    "print(half_arr.shape)\n",
    "\n",
    "third_arr = long_arr.reshape(2, 3, -1)\n",
    "print(third_arr.base)\n",
    "print(third_arr.shape)\n",
    "\n",
    "flat_arr = third_arr.reshape(-1)\n",
    "print(flat_arr)"
   ],
   "metadata": {
    "collapsed": false,
    "pycharm": {
     "name": "#%%\n",
     "is_executing": false
    }
   }
  }
 ],
 "metadata": {
  "kernelspec": {
   "display_name": "Python 3",
   "language": "python",
   "name": "python3"
  },
  "language_info": {
   "codemirror_mode": {
    "name": "ipython",
    "version": 2
   },
   "file_extension": ".py",
   "mimetype": "text/x-python",
   "name": "python",
   "nbconvert_exporter": "python",
   "pygments_lexer": "ipython2",
   "version": "2.7.6"
  },
  "pycharm": {
   "stem_cell": {
    "cell_type": "raw",
    "source": [],
    "metadata": {
     "collapsed": false
    }
   }
  }
 },
 "nbformat": 4,
 "nbformat_minor": 0
}