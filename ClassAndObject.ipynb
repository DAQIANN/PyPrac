{
 "cells": [
  {
   "cell_type": "code",
   "execution_count": 1,
   "metadata": {
    "collapsed": true,
    "pycharm": {
     "is_executing": false
    }
   },
   "outputs": [
    {
     "name": "stdout",
     "text": [
      "5\n"
     ],
     "output_type": "stream"
    }
   ],
   "source": [
    "# Simple class\n",
    "\n",
    "class MyClass:\n",
    "    c = 5\n",
    "\n",
    "p1 = MyClass()\n",
    "print(p1.c)"
   ]
  },
  {
   "cell_type": "code",
   "execution_count": 2,
   "outputs": [
    {
     "name": "stdout",
     "text": [
      "John 36\n",
      "Hi my name is John\n",
      "40\n"
     ],
     "output_type": "stream"
    }
   ],
   "source": [
    "class Person:\n",
    "    def __init__(persona, name, age):  # Basically a constructor\n",
    "        persona.name = name\n",
    "        persona.age = age\n",
    "    \n",
    "    def MyFunc(self):\n",
    "        print(\"Hi my name is \" + self.name)\n",
    "        \n",
    "p2 = Person(\"John\", 36)\n",
    "print(p2.name, p2.age)\n",
    "p2.MyFunc()\n",
    "\n",
    "p2.age = 40\n",
    "print(p2.age)\n",
    "\n",
    "del p1"
   ],
   "metadata": {
    "collapsed": false,
    "pycharm": {
     "name": "#%%\n",
     "is_executing": false
    }
   }
  }
 ],
 "metadata": {
  "kernelspec": {
   "display_name": "Python 3",
   "language": "python",
   "name": "python3"
  },
  "language_info": {
   "codemirror_mode": {
    "name": "ipython",
    "version": 2
   },
   "file_extension": ".py",
   "mimetype": "text/x-python",
   "name": "python",
   "nbconvert_exporter": "python",
   "pygments_lexer": "ipython2",
   "version": "2.7.6"
  },
  "pycharm": {
   "stem_cell": {
    "cell_type": "raw",
    "source": [],
    "metadata": {
     "collapsed": false
    }
   }
  }
 },
 "nbformat": 4,
 "nbformat_minor": 0
}